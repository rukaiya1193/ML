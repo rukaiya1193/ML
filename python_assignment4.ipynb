{
  "nbformat": 4,
  "nbformat_minor": 0,
  "metadata": {
    "colab": {
      "name": "python_assignment4.ipynb",
      "provenance": []
    },
    "kernelspec": {
      "name": "python3",
      "display_name": "Python 3"
    }
  },
  "cells": [
    {
      "cell_type": "markdown",
      "metadata": {
        "id": "7B2Xu3nHKRpD",
        "colab_type": "text"
      },
      "source": [
        "Write a Python Program(with class concepts) to find the area of the triangle using the below\n",
        "formula.\n",
        "area = (s*(s-a)*(s-b)*(s-c)) ** 0.5\n",
        "Function to take the length of the sides of triangle from user should be defined in the parent\n",
        "class and function to calculate the area should be defined in subclass. **bold text**"
      ]
    },
    {
      "cell_type": "code",
      "metadata": {
        "id": "wYrunEwcvd8v",
        "colab_type": "code",
        "colab": {
          "base_uri": "https://localhost:8080/",
          "height": 85
        },
        "outputId": "1c7e083b-e1cd-430a-a9e8-1f7a145aca58"
      },
      "source": [
        "class poly:\n",
        "    def __init__(self,a,b,c):\n",
        "        self.a = float(a)\n",
        "        self.b = float(b)\n",
        "        self.c = float(c)\n",
        "a= int(input(\"a=\"))\n",
        "b= int(input(\"b=\"))\n",
        "c= int(input(\"c=\"))\n",
        "\n",
        "class triangle(poly):\n",
        "    def __init__(self,a,b,c):\n",
        "        super().__init__(a,b,c)\n",
        "\n",
        "    def get_area(self):\n",
        "        s = (a + b + c) / 2\n",
        "        return (s*(s-a)*(s-b)*(s-c)) ** 0.5        \n",
        "\n",
        "t = triangle(a,b,c)\n",
        "print(\"area : {}\".format(t.get_area()))"
      ],
      "execution_count": 43,
      "outputs": [
        {
          "output_type": "stream",
          "text": [
            "a=4\n",
            "b=5\n",
            "c=6\n",
            "area : 9.921567416492215\n"
          ],
          "name": "stdout"
        }
      ]
    },
    {
      "cell_type": "markdown",
      "metadata": {
        "id": "JJ-svWe_v2UZ",
        "colab_type": "text"
      },
      "source": [
        "Write a function filter_long_words() that takes a list of words and an integer n and returns\n",
        "the list of words that are longer than n. **bold text**"
      ]
    },
    {
      "cell_type": "code",
      "metadata": {
        "id": "5Jwjsfkl7kdm",
        "colab_type": "code",
        "outputId": "7d30e3e0-c0ad-4fa5-c506-98dca4b9bdf0",
        "colab": {
          "base_uri": "https://localhost:8080/",
          "height": 34
        }
      },
      "source": [
        "def filter_long_words(n, str):  \n",
        "    word_len = []  \n",
        "    txt = str.split(\" \")  \n",
        "    for x in txt:  \n",
        "        if len(x) > n:  \n",
        "            word_len.append(x)  \n",
        "    return word_len   \n",
        "print(filter_long_words(3, \"The quick brown fox jumps over the lazy dog\"))  \n"
      ],
      "execution_count": 42,
      "outputs": [
        {
          "output_type": "stream",
          "text": [
            "['quick', 'brown', 'jumps', 'over', 'lazy']\n"
          ],
          "name": "stdout"
        }
      ]
    },
    {
      "cell_type": "markdown",
      "metadata": {
        "id": "7jLzYiilKUpm",
        "colab_type": "text"
      },
      "source": [
        "Write a Python program using function concept that maps list of words into a list of integers\n",
        "representing the lengths of the corresponding words. **bold text**"
      ]
    },
    {
      "cell_type": "code",
      "metadata": {
        "id": "RlPiFfVF7nCX",
        "colab_type": "code",
        "outputId": "ad1bf772-f24c-4c9f-984f-0344f3e584ab",
        "colab": {
          "base_uri": "https://localhost:8080/",
          "height": 68
        }
      },
      "source": [
        "def map_to_lengths_for(words):\n",
        "    lengths = []\n",
        "    for word in words:\n",
        "        lengths.append(len(word))\n",
        "    return lengths\n",
        "\n",
        "\n",
        "def map_to_lengths_map(words):\n",
        "    return map(len, words)\n",
        "\n",
        "\n",
        "def map_to_lengths_lists(words):\n",
        "    return [len(word) for word in words]\n",
        "\n",
        "\n",
        "if __name__ == \"__main__\":\n",
        "    words = ['abc', 'hello', 'rukaiya']\n",
        "    print (map_to_lengths_for(words))\n",
        "    print (map_to_lengths_map(words))\n",
        "    print (map_to_lengths_lists(words))"
      ],
      "execution_count": 41,
      "outputs": [
        {
          "output_type": "stream",
          "text": [
            "[3, 5, 7]\n",
            "<map object at 0x7faf06e73c88>\n",
            "[3, 5, 7]\n"
          ],
          "name": "stdout"
        }
      ]
    },
    {
      "cell_type": "markdown",
      "metadata": {
        "id": "7w1WB_JjKXz2",
        "colab_type": "text"
      },
      "source": [
        "Write a Python function which takes a character (i.e. a string of length 1) and returns True if\n",
        "it is a vowel, False otherwise. **bold text**"
      ]
    },
    {
      "cell_type": "code",
      "metadata": {
        "id": "l1e-W39qC6tL",
        "colab_type": "code",
        "outputId": "5458ac49-9e7d-43dd-9cdf-902e24b31f48",
        "colab": {
          "base_uri": "https://localhost:8080/",
          "height": 51
        }
      },
      "source": [
        "def is_vowel(char):\n",
        "    if(char=='a' or char=='A' or char=='e' or char=='E'\n",
        "       or char=='i' or char=='I' or char=='o' or char=='O'\n",
        "       or char=='u' or char=='U'):\n",
        "        print(char, \"is a vowel\")\n",
        "    else:\n",
        "        print(char, \"is not a vowel\")\n",
        "\n",
        "char=input(\"enter a character=\")\n",
        "is_vowel(char)"
      ],
      "execution_count": 0,
      "outputs": [
        {
          "output_type": "stream",
          "text": [
            "enter a character=a\n",
            "a is a vowel\n"
          ],
          "name": "stdout"
        }
      ]
    }
  ]
}
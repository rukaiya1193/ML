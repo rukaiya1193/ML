{
  "nbformat": 4,
  "nbformat_minor": 0,
  "metadata": {
    "colab": {
      "name": "numpy_assignment.ipynb",
      "provenance": []
    },
    "kernelspec": {
      "name": "python3",
      "display_name": "Python 3"
    }
  },
  "cells": [
    {
      "cell_type": "markdown",
      "metadata": {
        "id": "qQrNS4Vqhd6-",
        "colab_type": "text"
      },
      "source": [
        "Write a function to find moving average in an array over a window:\n",
        "Test it over [3, 5, 7, 2, 8, 10, 11, 65, 72, 81, 99, 100, 150] and window of 3. **bold text**"
      ]
    },
    {
      "cell_type": "code",
      "metadata": {
        "id": "V2HRL4d-e2Af",
        "colab_type": "code",
        "colab": {
          "base_uri": "https://localhost:8080/",
          "height": 51
        },
        "outputId": "8ee83ad6-4268-4207-a36c-753dabf76d74"
      },
      "source": [
        "import numpy as np\n",
        "\n",
        "def moving_average(a, n=3):\n",
        "  asum = np.cumsum(a,dtype=float)\n",
        "\n",
        "  asum[n:] = asum[n:] - asum[:-n]\n",
        "  return asum[n - 1:]/n\n",
        "\n",
        "a=[3,5,7,2,8,10,11,65,72,81,99,100,150]\n",
        "a1=np.array(a)\n",
        "\n",
        "np.array(moving_average(a1,n=3)).round(2)"
      ],
      "execution_count": 1,
      "outputs": [
        {
          "output_type": "execute_result",
          "data": {
            "text/plain": [
              "array([  5.  ,   4.67,   5.67,   6.67,   9.67,  28.67,  49.33,  72.67,\n",
              "        84.  ,  93.33, 116.33])"
            ]
          },
          "metadata": {
            "tags": []
          },
          "execution_count": 1
        }
      ]
    }
  ]
}
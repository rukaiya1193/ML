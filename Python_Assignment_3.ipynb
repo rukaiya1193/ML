{
  "nbformat": 4,
  "nbformat_minor": 0,
  "metadata": {
    "colab": {
      "name": "Python_Assignment3.ipynb",
      "provenance": [],
      "collapsed_sections": []
    },
    "kernelspec": {
      "name": "python3",
      "display_name": "Python 3"
    }
  },
  "cells": [
    {
      "cell_type": "markdown",
      "metadata": {
        "id": "1oLx-RiBgpfl",
        "colab_type": "text"
      },
      "source": [
        "1.1 Write a Python Program to implement your own myreduce() function which works exactly\n",
        "like Python's built-in function reduce() **bold text**"
      ]
    },
    {
      "cell_type": "code",
      "metadata": {
        "id": "6XsQl76pglM9",
        "colab_type": "code",
        "colab": {
          "base_uri": "https://localhost:8080/",
          "height": 34
        },
        "outputId": "af9dc42d-b581-46e6-fa0e-9bf2c29dbcda"
      },
      "source": [
        "\n",
        "def myreduce(anyfunc, sequence):\n",
        "  result = sequence[0]\n",
        "  for item in sequence[1:]:\n",
        "   result = anyfunc(result, item)\n",
        "\n",
        "  return result\n",
        "\n",
        "def sum(x,y): return x + y\n",
        "\n",
        "print (\"Sum on list [1,2,3] using custom reduce function : \"   + str(myreduce(sum, [1,2,3,22,90])) )\n",
        "\n",
        "\n"
      ],
      "execution_count": 33,
      "outputs": [
        {
          "output_type": "stream",
          "text": [
            "Sum on list [1,2,3] using custom reduce function : 118\n"
          ],
          "name": "stdout"
        }
      ]
    },
    {
      "cell_type": "markdown",
      "metadata": {
        "id": "ltIYD3JEmo7l",
        "colab_type": "text"
      },
      "source": [
        "1.2 Write a Python program to implement your own myfilter() function which works exactly\n",
        "like Python's built-in function filter() **\n",
        "**"
      ]
    },
    {
      "cell_type": "code",
      "metadata": {
        "id": "YgTeDTxBl9IK",
        "colab_type": "code",
        "colab": {
          "base_uri": "https://localhost:8080/",
          "height": 34
        },
        "outputId": "d221d9c3-35a1-47f4-da04-6d8ff4794af1"
      },
      "source": [
        "def myfilter(anyfunc, sequence):\n",
        "\n",
        " result = []\n",
        " \n",
        " for item in sequence:\n",
        "  if anyfunc(item):\n",
        "   result.append(item)\n",
        "\n",
        " \n",
        " return result\n",
        "\n",
        "\n",
        "def ispositive(x):\n",
        " if (x <= 0): \n",
        "  return False \n",
        " else: \n",
        "  return True\n",
        "\n",
        "print (\"Filter only positive Integers on list [0,1,-2,3,4,5,-22,-88,67] using filter function=\"  + str(myfilter(ispositive, [0,1,-2,3,4,5,-22,-88,67])))\n",
        "\n"
      ],
      "execution_count": 37,
      "outputs": [
        {
          "output_type": "stream",
          "text": [
            "Filter only positive Integers on list [0,1,-2,3,4,5,-22,-88,67] using filter function=[1, 3, 4, 5, 67]\n"
          ],
          "name": "stdout"
        }
      ]
    },
    {
      "cell_type": "markdown",
      "metadata": {
        "id": "7pQNR7ZR6Bhy",
        "colab_type": "text"
      },
      "source": [
        " **2.Implement List comprehensions to produce the following lists.**\n",
        "Write List comprehensions to produce the following Lists\n",
        "['A', 'C', 'A', 'D', 'G', 'I', ’L’, ‘ D’]\n",
        "['x', 'xx', 'xxx', 'xxxx', 'y', 'yy', 'yyy', 'yyyy', 'z', 'zz', 'zzz', 'zzzz']\n",
        "['x', 'y', 'z', 'xx', 'yy', 'zz', 'xxx', 'yyy', 'zzz', 'xxxx', 'yyyy', 'zzzz']\n",
        "[[2], [3], [4], [3], [4], [5], [4], [5], [6]] [[2, 3, 4, 5], [3, 4, 5, 6],\n",
        "[4, 5, 6, 7], [5, 6, 7, 8]]\n",
        " [(1, 1), (2, 1), (3, 1), (1, 2), (2, 2), (3, 2), (1, 3), (2, 3), (3, 3)] \n",
        "**bold text**"
      ]
    },
    {
      "cell_type": "code",
      "metadata": {
        "id": "aztmjGyXoxIA",
        "colab_type": "code",
        "colab": {
          "base_uri": "https://localhost:8080/",
          "height": 102
        },
        "outputId": "cbb557ee-08b4-49fe-fdc6-4f68c940f6ef"
      },
      "source": [
        "\n",
        "input_list = ['x','y','z']\n",
        "result = [ item*num for item in input_list for num in range(1,5)  ]\n",
        "print(str(result))\n",
        "\n",
        "\n",
        "input_list = ['x','y','z']\n",
        "result = [ item*num for num in range(1,5) for item in input_list  ]\n",
        "print(str(result))\n",
        "\n",
        "\n",
        "input_list = [2,3,4]\n",
        "result = [ [item+num] for item in input_list for num in range(0,3)]\n",
        "print( str(result))\n",
        "\n",
        "\n",
        "input_list = [2,3,4,5]\n",
        "result = [ [item+num for item in input_list] for num in range(0,4)  ]\n",
        "print( str(result))\n",
        "\n",
        "\n",
        "input_list=[1,2,3]\n",
        "result = [ (b,a) for a in input_list for b in input_list]\n",
        "print( str(result))\n"
      ],
      "execution_count": 35,
      "outputs": [
        {
          "output_type": "stream",
          "text": [
            "['x', 'xx', 'xxx', 'xxxx', 'y', 'yy', 'yyy', 'yyyy', 'z', 'zz', 'zzz', 'zzzz']\n",
            "['x', 'y', 'z', 'xx', 'yy', 'zz', 'xxx', 'yyy', 'zzz', 'xxxx', 'yyyy', 'zzzz']\n",
            "[[2], [3], [4], [3], [4], [5], [4], [5], [6]]\n",
            "[[2, 3, 4, 5], [3, 4, 5, 6], [4, 5, 6, 7], [5, 6, 7, 8]]\n",
            "[(1, 1), (2, 1), (3, 1), (1, 2), (2, 2), (3, 2), (1, 3), (2, 3), (3, 3)]\n"
          ],
          "name": "stdout"
        }
      ]
    },
    {
      "cell_type": "code",
      "metadata": {
        "id": "ygs5H5ar6HA5",
        "colab_type": "code",
        "colab": {}
      },
      "source": [
        ""
      ],
      "execution_count": 0,
      "outputs": []
    }
  ]
}
{
  "nbformat": 4,
  "nbformat_minor": 0,
  "metadata": {
    "colab": {
      "name": "python_assinment1.ipynb",
      "provenance": [],
      "collapsed_sections": []
    },
    "kernelspec": {
      "name": "python3",
      "display_name": "Python 3"
    }
  },
  "cells": [
    {
      "cell_type": "markdown",
      "metadata": {
        "id": "H4k4-GvI4mEy",
        "colab_type": "text"
      },
      "source": [
        "**write a program which will find  all such numbers which are divisible by 7 but are not a multiple of 5, between 2000 and 3200 (both included). The numbers obtained should be printed in a comma-separated sequence on a single line.**"
      ]
    },
    {
      "cell_type": "code",
      "metadata": {
        "id": "qDH55qyd1bLO",
        "colab_type": "code",
        "outputId": "8a92875b-bf3e-486f-b327-1c5daf781a90",
        "colab": {
          "base_uri": "https://localhost:8080/",
          "height": 54
        }
      },
      "source": [
        "n7=[]\n",
        "\n",
        "for x in range(2000,3200):\n",
        "\n",
        "      if (x%7==0) and (x%5!=0):\n",
        "\n",
        "          n7.append(str(x))\n",
        "\n",
        "print(',' .join(n7))"
      ],
      "execution_count": 1,
      "outputs": [
        {
          "output_type": "stream",
          "text": [
            "2002,2009,2016,2023,2037,2044,2051,2058,2072,2079,2086,2093,2107,2114,2121,2128,2142,2149,2156,2163,2177,2184,2191,2198,2212,2219,2226,2233,2247,2254,2261,2268,2282,2289,2296,2303,2317,2324,2331,2338,2352,2359,2366,2373,2387,2394,2401,2408,2422,2429,2436,2443,2457,2464,2471,2478,2492,2499,2506,2513,2527,2534,2541,2548,2562,2569,2576,2583,2597,2604,2611,2618,2632,2639,2646,2653,2667,2674,2681,2688,2702,2709,2716,2723,2737,2744,2751,2758,2772,2779,2786,2793,2807,2814,2821,2828,2842,2849,2856,2863,2877,2884,2891,2898,2912,2919,2926,2933,2947,2954,2961,2968,2982,2989,2996,3003,3017,3024,3031,3038,3052,3059,3066,3073,3087,3094,3101,3108,3122,3129,3136,3143,3157,3164,3171,3178,3192,3199\n"
          ],
          "name": "stdout"
        }
      ]
    },
    {
      "cell_type": "markdown",
      "metadata": {
        "id": "-YClV2BE-PtD",
        "colab_type": "text"
      },
      "source": [
        "**2. Write a Python program to accept the user's first and last name and then getting them printed in the the reverse order with a space between first name and last name.**"
      ]
    },
    {
      "cell_type": "code",
      "metadata": {
        "id": "lHx8nps3-eeV",
        "colab_type": "code",
        "outputId": "07dc5862-338a-4bcd-b30c-4567aa28d945",
        "colab": {
          "base_uri": "https://localhost:8080/",
          "height": 68
        }
      },
      "source": [
        "f_name=input('enter your First_name :')\n",
        "l_name=input('enter your Last_name :')\n",
        "\n",
        "\n",
        "revf_name = f_name[::-1]\n",
        "revl_name = l_name[::-1]\n",
        "\n",
        "print(revf_name + \"  \" + revl_name)\n"
      ],
      "execution_count": 0,
      "outputs": [
        {
          "output_type": "stream",
          "text": [
            "enter your First_name :Rukaiya\n",
            "enter your Last_name :Jamadar\n",
            "ayiakuR  radamaJ\n"
          ],
          "name": "stdout"
        }
      ]
    },
    {
      "cell_type": "markdown",
      "metadata": {
        "id": "EfnC0usSI1uS",
        "colab_type": "text"
      },
      "source": [
        "**3. Write a Python program to find the volume of a sphere with diameter 12 cm.**"
      ]
    },
    {
      "cell_type": "code",
      "metadata": {
        "id": "0B8Y5jxcJL_S",
        "colab_type": "code",
        "outputId": "f206a3ed-8563-4d49-f33f-a1c54a7499fb",
        "colab": {
          "base_uri": "https://localhost:8080/",
          "height": 68
        }
      },
      "source": [
        "PI = 3.14\n",
        "\n",
        "Diameter = float(input('Please Enter the Diameter of a Sphere: '))\n",
        "\n",
        "#radius = float(input('Please Enter the radius of a Sphere: '))\n",
        "\n",
        "radius=Diameter/2  #use formula to find out radius using diameter\n",
        "\n",
        "Volume = (4 / 3) * PI * radius * radius * radius\n",
        "\n",
        "\n",
        "print(\"\\n The Volume of a Sphere = \" ,Volume)"
      ],
      "execution_count": 0,
      "outputs": [
        {
          "output_type": "stream",
          "text": [
            "Please Enter the Diameter of a Sphere: 12\n",
            "\n",
            " The Volume of a Sphere =  904.3199999999998\n"
          ],
          "name": "stdout"
        }
      ]
    }
  ]
}